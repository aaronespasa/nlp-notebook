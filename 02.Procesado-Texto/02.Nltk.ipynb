{
 "cells": [
  {
   "cell_type": "markdown",
   "id": "64771d56-d745-46a6-b510-fa1cab592b5a",
   "metadata": {},
   "source": [
    "# NLTK"
   ]
  },
  {
   "cell_type": "markdown",
   "id": "4a276fb6-265f-477b-8da0-6d35cdbff69c",
   "metadata": {},
   "source": [
    "[NLTK Playlist](https://youtube.com/playlist?list=PLQVvvaa0QuDf2JswnfiGkliBInZnIC4HL)"
   ]
  },
  {
   "cell_type": "code",
   "execution_count": null,
   "id": "55869eaf-eab2-41cb-ab73-4aa66800232c",
   "metadata": {},
   "outputs": [],
   "source": []
  }
 ],
 "metadata": {
  "kernelspec": {
   "display_name": "Python 3",
   "language": "python",
   "name": "python3"
  },
  "language_info": {
   "codemirror_mode": {
    "name": "ipython",
    "version": 3
   },
   "file_extension": ".py",
   "mimetype": "text/x-python",
   "name": "python",
   "nbconvert_exporter": "python",
   "pygments_lexer": "ipython3",
   "version": "3.9.6"
  }
 },
 "nbformat": 4,
 "nbformat_minor": 5
}
